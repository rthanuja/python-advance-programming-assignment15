{
 "cells": [
  {
   "cell_type": "code",
   "execution_count": 1,
   "id": "cdd26f08",
   "metadata": {},
   "outputs": [],
   "source": [
    "#1. Write a function that returns True if a given name can generate an array of words.\n",
    "def anagram(s,l):\n",
    "    s=list(s)\n",
    "    for i in l:\n",
    "        for j in i:\n",
    "            if j.lower() in s:\n",
    "                s.remove(j.lower())\n",
    "            elif j.upper() in s:\n",
    "                s.remove(j.upper())\n",
    "                continue\n",
    "            else:\n",
    "                return False\n",
    "    for i in s:\n",
    "        if i==\" \":\n",
    "            s.remove(i)\n",
    "    if len(s)==0:\n",
    "        return True\n",
    "    return False \n",
    "        "
   ]
  },
  {
   "cell_type": "code",
   "execution_count": 2,
   "id": "58db3341",
   "metadata": {},
   "outputs": [
    {
     "data": {
      "text/plain": [
       "True"
      ]
     },
     "execution_count": 2,
     "metadata": {},
     "output_type": "execute_result"
    }
   ],
   "source": [
    "anagram(\"Justin Bieber\", [\"injures\", \"ebb\", \"it\"]) "
   ]
  },
  {
   "cell_type": "code",
   "execution_count": 3,
   "id": "e8e86c42",
   "metadata": {},
   "outputs": [
    {
     "data": {
      "text/plain": [
       "True"
      ]
     },
     "execution_count": 3,
     "metadata": {},
     "output_type": "execute_result"
    }
   ],
   "source": [
    "anagram(\"Natalie Portman\", [\"ornamental\", \"pita\"]) "
   ]
  },
  {
   "cell_type": "code",
   "execution_count": 4,
   "id": "8761424c",
   "metadata": {},
   "outputs": [
    {
     "data": {
      "text/plain": [
       "False"
      ]
     },
     "execution_count": 4,
     "metadata": {},
     "output_type": "execute_result"
    }
   ],
   "source": [
    "anagram(\"Chris Pratt\", [\"chirps\", \"rat\"]) "
   ]
  },
  {
   "cell_type": "code",
   "execution_count": 5,
   "id": "faefa469",
   "metadata": {},
   "outputs": [
    {
     "data": {
      "text/plain": [
       "False"
      ]
     },
     "execution_count": 5,
     "metadata": {},
     "output_type": "execute_result"
    }
   ],
   "source": [
    "anagram(\"Jeff Goldblum\", [\"jog\", \"meld\", \"bluffs\"]) "
   ]
  },
  {
   "cell_type": "code",
   "execution_count": 6,
   "id": "91bcf170",
   "metadata": {},
   "outputs": [],
   "source": [
    "'''2.Given an array of users, each defined by an object with the following properties: name, score, reputation create a\n",
    "function that sorts the array to form the correct leaderboard.The leaderboard takes into consideration the score of each user\n",
    "of course, but an emphasis is put on their reputation in the community, so to get the trueScore, you should add the reputation\n",
    "multiplied by 2 to the score.Once you know the trueScore of each user, sort the array according to it in descending order.'''\n",
    "def leaderboards(l):\n",
    "    d={}\n",
    "    s=[]\n",
    "    for i in l:\n",
    "        d[i[\"name\"]]=i\n",
    "        t=i[\"score\"]+2*i[\"reputation\"]\n",
    "        s.append(t)\n",
    "        d[t]=i[\"name\"]\n",
    "    s.sort(reverse=True)\n",
    "    for i in range(len(s)):\n",
    "        l[i]=d[d[s[i]]]\n",
    "    return l"
   ]
  },
  {
   "cell_type": "code",
   "execution_count": 7,
   "id": "057793ce",
   "metadata": {},
   "outputs": [
    {
     "data": {
      "text/plain": [
       "[{'name': 'c', 'score': 115, 'reputation': 30},\n",
       " {'name': 'b', 'score': 90, 'reputation': 40},\n",
       " {'name': 'a', 'score': 100, 'reputation': 20}]"
      ]
     },
     "execution_count": 7,
     "metadata": {},
     "output_type": "execute_result"
    }
   ],
   "source": [
    "leaderboards([\n",
    "  { \"name\": \"a\", \"score\": 100, \"reputation\": 20 },\n",
    "  { \"name\": \"b\", \"score\": 90, \"reputation\": 40 },\n",
    "  { \"name\": \"c\", \"score\": 115, \"reputation\": 30 },\n",
    "])\n"
   ]
  },
  {
   "cell_type": "code",
   "execution_count": 8,
   "id": "f1569eb4",
   "metadata": {},
   "outputs": [],
   "source": [
    "'''3. Create a function that, given a phrase and a number of letters guessed, returns a string with hyphens - for every letter\n",
    "of the phrase not guessed, and each letter guessed in place.'''\n",
    "def hangman(s,l):\n",
    "    for i in s:\n",
    "        if i.lower() in l or i.upper() in l:\n",
    "            continue\n",
    "        else:\n",
    "            s=s.replace(i,\"-\")\n",
    "    return s"
   ]
  },
  {
   "cell_type": "code",
   "execution_count": 9,
   "id": "2b6aacdb",
   "metadata": {},
   "outputs": [
    {
     "data": {
      "text/plain": [
       "'-e---o--e-'"
      ]
     },
     "execution_count": 9,
     "metadata": {},
     "output_type": "execute_result"
    }
   ],
   "source": [
    "hangman(\"helicopter\", [\"o\", \"e\", \"s\"]) "
   ]
  },
  {
   "cell_type": "code",
   "execution_count": 10,
   "id": "b0c6d8d7",
   "metadata": {},
   "outputs": [
    {
     "data": {
      "text/plain": [
       "'tree'"
      ]
     },
     "execution_count": 10,
     "metadata": {},
     "output_type": "execute_result"
    }
   ],
   "source": [
    "hangman(\"tree\", [\"r\", \"t\", \"e\"])"
   ]
  },
  {
   "cell_type": "code",
   "execution_count": 11,
   "id": "b9b1375c",
   "metadata": {},
   "outputs": [
    {
     "data": {
      "text/plain": [
       "'P----n-r----'"
      ]
     },
     "execution_count": 11,
     "metadata": {},
     "output_type": "execute_result"
    }
   ],
   "source": [
    "hangman(\"Python rules\", [\"a\", \"n\", \"p\", \"r\", \"z\"])"
   ]
  },
  {
   "cell_type": "code",
   "execution_count": 12,
   "id": "0e060cb8",
   "metadata": {},
   "outputs": [
    {
     "data": {
      "text/plain": [
       "'-e---a--e-y--a----y---y-'"
      ]
     },
     "execution_count": 12,
     "metadata": {},
     "output_type": "execute_result"
    }
   ],
   "source": [
    "hangman(\"He's a very naughty boy!\", [\"e\", \"a\", \"y\"]) "
   ]
  },
  {
   "cell_type": "code",
   "execution_count": 13,
   "id": "26735b74",
   "metadata": {},
   "outputs": [],
   "source": [
    "'''4. The Collatz sequence is as follows:\n",
    "- Start with some given integer n.\n",
    "- If it is even, the next number will be n divided by 2.\n",
    "- If it is odd, multiply it by 3 and add 1 to make the next number.\n",
    "- The sequence stops when it reaches 1.\n",
    "According to the Collatz conjecture, it will always reach 1. If that's true, you can construct a finite sequence following\n",
    "the aforementioned method for anygiven integer.\n",
    "Write a function that takes in an integer n and returns the highest integer in the corresponding Collatz sequence.'''\n",
    "def max_collatz(n):\n",
    "    l=[n]\n",
    "    while(n!=1):\n",
    "        if n%2==0:\n",
    "            l.append(n//2)\n",
    "            n=n//2            \n",
    "        else:\n",
    "            l.append(n*3+1)\n",
    "            n=n*3+1\n",
    "    return max(l)       "
   ]
  },
  {
   "cell_type": "code",
   "execution_count": 14,
   "id": "6534839b",
   "metadata": {},
   "outputs": [
    {
     "data": {
      "text/plain": [
       "16"
      ]
     },
     "execution_count": 14,
     "metadata": {},
     "output_type": "execute_result"
    }
   ],
   "source": [
    "max_collatz(10)"
   ]
  },
  {
   "cell_type": "code",
   "execution_count": 15,
   "id": "5d625964",
   "metadata": {},
   "outputs": [
    {
     "data": {
      "text/plain": [
       "32"
      ]
     },
     "execution_count": 15,
     "metadata": {},
     "output_type": "execute_result"
    }
   ],
   "source": [
    "max_collatz(32)"
   ]
  },
  {
   "cell_type": "code",
   "execution_count": 16,
   "id": "a3224990",
   "metadata": {},
   "outputs": [
    {
     "data": {
      "text/plain": [
       "256"
      ]
     },
     "execution_count": 16,
     "metadata": {},
     "output_type": "execute_result"
    }
   ],
   "source": [
    "max_collatz(85)"
   ]
  },
  {
   "cell_type": "code",
   "execution_count": 17,
   "id": "19e79a97",
   "metadata": {},
   "outputs": [],
   "source": [
    "'''5. Write a function that sorts a list of integers by their digit length in descending order, then settles ties by sorting\n",
    "numbers with the same digit length in ascending order.'''\n",
    "def digit_sort(l):\n",
    "    d={}\n",
    "    for i in l[::-1]:\n",
    "        if len(str(i)) not in d.keys():\n",
    "            d[len(str(i))]=[i]\n",
    "            l.remove(i)\n",
    "        else:\n",
    "            d[len(str(i))].append(i)\n",
    "            l.remove(i)\n",
    "    s=list(d.keys())\n",
    "    s.sort(reverse=True)\n",
    "    for i in s:\n",
    "        r=list(d[i])\n",
    "        r.sort()\n",
    "        l.extend(r)\n",
    "    return l\n",
    "        "
   ]
  },
  {
   "cell_type": "code",
   "execution_count": 18,
   "id": "79f5a67e",
   "metadata": {},
   "outputs": [
    {
     "data": {
      "text/plain": [
       "[101, 23, 77, 5, 7]"
      ]
     },
     "execution_count": 18,
     "metadata": {},
     "output_type": "execute_result"
    }
   ],
   "source": [
    "digit_sort([77, 23, 5, 7, 101])"
   ]
  },
  {
   "cell_type": "code",
   "execution_count": 19,
   "id": "389cf72e",
   "metadata": {},
   "outputs": [
    {
     "data": {
      "text/plain": [
       "[444, 563, 789, 1, 2, 5, 9]"
      ]
     },
     "execution_count": 19,
     "metadata": {},
     "output_type": "execute_result"
    }
   ],
   "source": [
    "digit_sort([1, 5, 9, 2, 789, 563, 444])"
   ]
  },
  {
   "cell_type": "code",
   "execution_count": 20,
   "id": "3f559d50",
   "metadata": {},
   "outputs": [
    {
     "data": {
      "text/plain": [
       "[53219, 3772, 564, 32, 1]"
      ]
     },
     "execution_count": 20,
     "metadata": {},
     "output_type": "execute_result"
    }
   ],
   "source": [
    "digit_sort([53219, 3772, 564, 32, 1])"
   ]
  }
 ],
 "metadata": {
  "kernelspec": {
   "display_name": "Python 3 (ipykernel)",
   "language": "python",
   "name": "python3"
  },
  "language_info": {
   "codemirror_mode": {
    "name": "ipython",
    "version": 3
   },
   "file_extension": ".py",
   "mimetype": "text/x-python",
   "name": "python",
   "nbconvert_exporter": "python",
   "pygments_lexer": "ipython3",
   "version": "3.10.9"
  }
 },
 "nbformat": 4,
 "nbformat_minor": 5
}
